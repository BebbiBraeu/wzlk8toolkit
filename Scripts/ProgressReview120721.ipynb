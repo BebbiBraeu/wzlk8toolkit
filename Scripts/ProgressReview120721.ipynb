{
 "cells": [
  {
   "cell_type": "code",
   "execution_count": null,
   "id": "3cd7787b",
   "metadata": {},
   "outputs": [],
   "source": [
    "import os\n",
    "import sys\n",
    "sys.path.append(os.path.curdir)\n",
    "os.chdir('..')\n",
    "import core.ssh\n",
    "import getpass"
   ]
  },
  {
   "cell_type": "code",
   "execution_count": null,
   "id": "0f8f9bf1",
   "metadata": {},
   "outputs": [],
   "source": [
    "Pkeypassword = getpass.getpass(\"password:\")\n",
    "userName = '' \n",
    "key1 = getpass.getpass(\"key1:\")\n",
    "key2 = getpass.getpass(\"key2:\")\n",
    "bucket = \"ggr-bucket-cbf77f1e-eea2-4b4a-88b2-ae787daf3f42\" \n",
    "rsa_id_path = \"\"\n",
    "folder = ''\n",
    "mgFileName = ''"
   ]
  },
  {
   "cell_type": "code",
   "execution_count": null,
   "id": "418d45a7",
   "metadata": {},
   "outputs": [],
   "source": [
    "print(core.ssh.printTime(), 'SSH connection established!')\n",
    "sshSession, workdir = core.ssh.PKeyLogin_Trans(rsa_id_path, '{}'.format(Pkeypassword), '137.226.78.226', 22, userName)"
   ]
  },
  {
   "cell_type": "markdown",
   "id": "d6357436",
   "metadata": {},
   "source": [
    "<img src=\"./214.png\" width = \"500\" height = \"400\" alt=\"1\" align=left />"
   ]
  },
  {
   "cell_type": "code",
   "execution_count": null,
   "id": "c060c49c",
   "metadata": {},
   "outputs": [],
   "source": [
    "print(core.ssh.printTime(), 'Downloading dataset to the master node...')\n",
    "core.ssh.k8_3s3download(sshSession, key1, key2, folder) "
   ]
  },
  {
   "cell_type": "markdown",
   "id": "0cb1033b",
   "metadata": {},
   "source": [
    "<img src=\"./IMG_1024.JPG\" width = \"150\" height = \"100\" alt=\"1\" align=left />\n",
    "<img src=\"./IMG_1025.JPG\" width = \"150\" height = \"100\" alt=\"1\" align=left />\n",
    "<img src=\"./IMG_1026.JPG\" width = \"150\" height = \"100\" alt=\"1\" align=left />"
   ]
  },
  {
   "cell_type": "code",
   "execution_count": null,
   "id": "2d0a8686",
   "metadata": {
    "scrolled": true
   },
   "outputs": [],
   "source": [
    "print(core.ssh.printTime(), 'Creating Persistent Volume and meshroom container...')\n",
    "core.ssh.kubectlApply(sshSession, '{}/wzlk8toolkitCache/k8_3configuration/pvcJobMeshroom.yaml'.format(workdir))"
   ]
  },
  {
   "cell_type": "code",
   "execution_count": null,
   "id": "fe218ef0",
   "metadata": {},
   "outputs": [],
   "source": [
    "print(core.ssh.printTime(), 'Getting pod name...')\n",
    "fullPodName = core.ssh.kubectlGetFullPodName(sshSession, 'yz-meshroom')\n",
    "print(core.ssh.printTime(), 'Pod name is: ', fullPodName)"
   ]
  },
  {
   "cell_type": "code",
   "execution_count": null,
   "id": "4995e432",
   "metadata": {},
   "outputs": [],
   "source": [
    "print(core.ssh.printTime(), 'Moving dataset into computation units...')\n",
    "core.ssh.kubectlCp(sshSession, '{}/wzlk8toolkitCache/{}'.format(workdir, folder), fullPodName, '{}'.format(folder))"
   ]
  },
  {
   "cell_type": "code",
   "execution_count": null,
   "id": "0f1be795",
   "metadata": {},
   "outputs": [],
   "source": [
    "print(core.ssh.printTime(), 'Initiating computing environment...')\n",
    "_,stdout,_ = sshSession.exec_command('kubectl exec -n ggr {} -- mv /opt/AliceVision_install /opt/AliceVision_bundle'.format(fullPodName))\n",
    "print(stdout.read().decode())\n",
    "core.ssh.getstatus(sshSession)"
   ]
  },
  {
   "cell_type": "code",
   "execution_count": null,
   "id": "588e7393",
   "metadata": {},
   "outputs": [],
   "source": [
    "if mgFileName != '':\n",
    "    \"\"\"\n",
    "    given .mg file should be put in the raw dataset folder and must be generated or\n",
    "    converted from Meshroom version 2021.1!\n",
    "    \"\"\"\n",
    "    # generate a project .mg file from dataset\n",
    "    print(core.ssh.printTime(), 'Generating a standard .mg file.')\n",
    "    _, stdout, _ = sshSession.exec_command('kubectl exec -n ggr {} -- meshroom_batch -i /tmp/{} --compute no --save /tmp/{}/generatedMgTemplate.mg -o /tmp/MeshroomCache'.format(fullPodName, folder, folder))\n",
    "    print(core.ssh.printTime(), stdout.read().decode())\n",
    "\n",
    "    # create a shell script in k8-3\n",
    "    sshSession.exec_command('echo \"#!/bin/sh\\npython /tmp/{}/mgFileEditor.py /tmp/{}/{} {}\" > {}/wzlk8toolkitCache/mgFileTemplates/runpython.sh'.format(folder, folder, mgFileName, folder, workdir, ))\n",
    "\n",
    "    # copy the shell script into container, this script is used to run python scripts inside container.\n",
    "    core.ssh.kubectlCp(sshSession, '{}/wzlk8toolkitCache/mgFileTemplates/runpython.sh'.format(workdir), fullPodName, '{}'.format(folder))\n",
    "\n",
    "    # copy project mgFile into container\n",
    "    core.ssh.kubectlCp(sshSession, '{}/wzlk8toolkitCache/mgFileTemplates/{}'.format(workdir, mgFileName), fullPodName, '{}'.format(folder))\n",
    "\n",
    "    print(core.ssh.printTime(), 'Inserting customized computing graph')\n",
    "    urlToMgFileEditer = 'https://raw.githubusercontent.com/zieft/wzlk8toolkit/master/Scripts/mgFileEditor.py'\n",
    "    _, stdout, _ = sshSession.exec_command('kubectl exec -n ggr {} -- wget -P /tmp/{} {}'.format(fullPodName, folder, urlToMgFileEditer))\n",
    "    print(core.ssh.printTime(), stdout.read().decode())\n",
    "\n",
    "    _, stdout, _ = sshSession.exec_command('kubectl exec -n ggr {} -- bash /tmp/{}/runpython.sh'.format(fullPodName, folder))\n",
    "    print(core.ssh.printTime(), stdout.read().decode())\n",
    "    core.ssh.getstatus(sshSession)\n",
    "\n",
    "\n",
    "    print(core.ssh.printTime(), 'Computing...This process may take hours to finish, please wait...')\n",
    "    _, stdout, _ = sshSession.exec_command('kubectl exec -n ggr {} -- meshroom_compute --cache /tmp/MeshroomCache /tmp/{}/{}'.format(fullPodName, folder, mgFileName))\n",
    "    print(core.ssh.printTime(), stdout.read().decode())\n",
    "\n",
    "else:\n",
    "    # run a standard pipeline\n",
    "    print(core.ssh.printTime(), 'Computing...Please wait...')\n",
    "    _,stdout,_ = sshSession.exec_command('kubectl exec -n ggr {} -- meshroom_batch -i /tmp/{} -o /tmp/MeshroomCache/{}_out'.format(fullPodName, folder, folder))\n",
    "    print(stdout.read().decode())\n",
    "    core.ssh.getstatus(sshSession)"
   ]
  },
  {
   "cell_type": "markdown",
   "id": "3c23f089",
   "metadata": {},
   "source": [
    "<img src=\"./521.png\" width = \"500\" height = \"400\" alt=\"1\" align=left />"
   ]
  },
  {
   "cell_type": "code",
   "execution_count": null,
   "id": "a7d8cba7",
   "metadata": {},
   "outputs": [],
   "source": [
    "print(core.ssh.printTime(), 'Dismounting finished Job...Please wait...')\n",
    "core.ssh.kubectlDelete(sshSession, 'job', 'yz-meshroom')"
   ]
  },
  {
   "cell_type": "code",
   "execution_count": null,
   "id": "fe0dc0e4",
   "metadata": {},
   "outputs": [],
   "source": [
    "# create a minio server in the cluster, expose port 9000 as service\n",
    "print(core.ssh.printTime(), 'Creating minIO Service... Waiting...')\n",
    "core.ssh.kubectlApply(sshSession, '{}/wzlk8toolkitCache/k8_3configuration/svcForUpload.yaml'.format(workdir))"
   ]
  },
  {
   "cell_type": "code",
   "execution_count": null,
   "id": "0cef4f68",
   "metadata": {},
   "outputs": [],
   "source": [
    "# Get IP address of the host machine from minIO service\n",
    "svcIP = core.ssh.getSvcIp(sshSession)"
   ]
  },
  {
   "cell_type": "code",
   "execution_count": null,
   "id": "f069ceb0",
   "metadata": {},
   "outputs": [],
   "source": [
    "# create an alias in minio client on master node.\n",
    "print(core.ssh.printTime(), 'Creating myminio in Minio Client...')\n",
    "core.ssh.mcAliasSet(sshSession, workdir, 'myminio', svcIP, key1, key2, 's3v4')"
   ]
  },
  {
   "cell_type": "code",
   "execution_count": null,
   "id": "67520a65",
   "metadata": {},
   "outputs": [],
   "source": [
    "# upload output data to s3 storage\n",
    "print(core.ssh.printTime(), 'Uploading output data to S3 Storage...')\n",
    "pathJob = 'MeshroomCache'\n",
    "core.ssh.mcUpload(sshSession, key1, key2, pathJob, bucket, folder)"
   ]
  },
  {
   "cell_type": "code",
   "execution_count": null,
   "id": "29d0de03",
   "metadata": {},
   "outputs": [],
   "source": [
    "print(core.ssh.printTime(), 'Job finished, clearing cache...')\n",
    "core.ssh.kubectlDelete(sshSession, 'job', 'minio-server')\n",
    "core.ssh.kubectlDelete(sshSession, 'service', 'minio-service')\n",
    "core.ssh.kubectlDelete(sshSession, 'persistentvolumeclaim', 'yz-pvc')\n",
    "# remove cache folders/scripts in k8-3\n",
    "sshSession.exec_command('rm -rf wzlk8toolkitCache')\n",
    "core.ssh.getstatus(sshSession)\n",
    "\n",
    "# close session\n",
    "sshSession.close()\n",
    "print(core.ssh.printTime(), 'All done!')"
   ]
  },
  {
   "cell_type": "code",
   "execution_count": null,
   "id": "e11f45d4",
   "metadata": {},
   "outputs": [],
   "source": []
  }
 ],
 "metadata": {
  "kernelspec": {
   "display_name": "Python 3",
   "language": "python",
   "name": "python3"
  },
  "language_info": {
   "codemirror_mode": {
    "name": "ipython",
    "version": 3
   },
   "file_extension": ".py",
   "mimetype": "text/x-python",
   "name": "python",
   "nbconvert_exporter": "python",
   "pygments_lexer": "ipython3",
   "version": "3.8.8"
  }
 },
 "nbformat": 4,
 "nbformat_minor": 5
}
